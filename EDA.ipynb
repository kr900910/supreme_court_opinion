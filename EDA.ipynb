{
 "cells": [
  {
   "cell_type": "markdown",
   "metadata": {},
   "source": [
    "# Basic EDA"
   ]
  },
  {
   "cell_type": "code",
   "execution_count": 2,
   "metadata": {},
   "outputs": [
    {
     "data": {
      "text/html": [
       "\n",
       "    <div class=\"bk-root\">\n",
       "        <a href=\"https://bokeh.pydata.org\" target=\"_blank\" class=\"bk-logo bk-logo-small bk-logo-notebook\"></a>\n",
       "        <span id=\"d2b85d9f-2523-47fb-a26b-abc57ba48dba\">Loading BokehJS ...</span>\n",
       "    </div>"
      ]
     },
     "metadata": {},
     "output_type": "display_data"
    },
    {
     "data": {
      "application/javascript": [
       "\n",
       "(function(root) {\n",
       "  function now() {\n",
       "    return new Date();\n",
       "  }\n",
       "\n",
       "  var force = true;\n",
       "\n",
       "  if (typeof (root._bokeh_onload_callbacks) === \"undefined\" || force === true) {\n",
       "    root._bokeh_onload_callbacks = [];\n",
       "    root._bokeh_is_loading = undefined;\n",
       "  }\n",
       "\n",
       "  var JS_MIME_TYPE = 'application/javascript';\n",
       "  var HTML_MIME_TYPE = 'text/html';\n",
       "  var EXEC_MIME_TYPE = 'application/vnd.bokehjs_exec.v0+json';\n",
       "  var CLASS_NAME = 'output_bokeh rendered_html';\n",
       "\n",
       "  /**\n",
       "   * Render data to the DOM node\n",
       "   */\n",
       "  function render(props, node) {\n",
       "    var script = document.createElement(\"script\");\n",
       "    node.appendChild(script);\n",
       "  }\n",
       "\n",
       "  /**\n",
       "   * Handle when an output is cleared or removed\n",
       "   */\n",
       "  function handleClearOutput(event, handle) {\n",
       "    var cell = handle.cell;\n",
       "\n",
       "    var id = cell.output_area._bokeh_element_id;\n",
       "    var server_id = cell.output_area._bokeh_server_id;\n",
       "    // Clean up Bokeh references\n",
       "    if (id !== undefined) {\n",
       "      Bokeh.index[id].model.document.clear();\n",
       "      delete Bokeh.index[id];\n",
       "    }\n",
       "\n",
       "    if (server_id !== undefined) {\n",
       "      // Clean up Bokeh references\n",
       "      var cmd = \"from bokeh.io.state import curstate; print(curstate().uuid_to_server['\" + server_id + \"'].get_sessions()[0].document.roots[0]._id)\";\n",
       "      cell.notebook.kernel.execute(cmd, {\n",
       "        iopub: {\n",
       "          output: function(msg) {\n",
       "            var element_id = msg.content.text.trim();\n",
       "            Bokeh.index[element_id].model.document.clear();\n",
       "            delete Bokeh.index[element_id];\n",
       "          }\n",
       "        }\n",
       "      });\n",
       "      // Destroy server and session\n",
       "      var cmd = \"import bokeh.io.notebook as ion; ion.destroy_server('\" + server_id + \"')\";\n",
       "      cell.notebook.kernel.execute(cmd);\n",
       "    }\n",
       "  }\n",
       "\n",
       "  /**\n",
       "   * Handle when a new output is added\n",
       "   */\n",
       "  function handleAddOutput(event, handle) {\n",
       "    var output_area = handle.output_area;\n",
       "    var output = handle.output;\n",
       "\n",
       "    // limit handleAddOutput to display_data with EXEC_MIME_TYPE content only\n",
       "    if ((output.output_type != \"display_data\") || (!output.data.hasOwnProperty(EXEC_MIME_TYPE))) {\n",
       "      return\n",
       "    }\n",
       "\n",
       "    var toinsert = output_area.element.find(\".\" + CLASS_NAME.split(' ')[0]);\n",
       "\n",
       "    if (output.metadata[EXEC_MIME_TYPE][\"id\"] !== undefined) {\n",
       "      toinsert[0].firstChild.textContent = output.data[JS_MIME_TYPE];\n",
       "      // store reference to embed id on output_area\n",
       "      output_area._bokeh_element_id = output.metadata[EXEC_MIME_TYPE][\"id\"];\n",
       "    }\n",
       "    if (output.metadata[EXEC_MIME_TYPE][\"server_id\"] !== undefined) {\n",
       "      var bk_div = document.createElement(\"div\");\n",
       "      bk_div.innerHTML = output.data[HTML_MIME_TYPE];\n",
       "      var script_attrs = bk_div.children[0].attributes;\n",
       "      for (var i = 0; i < script_attrs.length; i++) {\n",
       "        toinsert[0].firstChild.setAttribute(script_attrs[i].name, script_attrs[i].value);\n",
       "      }\n",
       "      // store reference to server id on output_area\n",
       "      output_area._bokeh_server_id = output.metadata[EXEC_MIME_TYPE][\"server_id\"];\n",
       "    }\n",
       "  }\n",
       "\n",
       "  function register_renderer(events, OutputArea) {\n",
       "\n",
       "    function append_mime(data, metadata, element) {\n",
       "      // create a DOM node to render to\n",
       "      var toinsert = this.create_output_subarea(\n",
       "        metadata,\n",
       "        CLASS_NAME,\n",
       "        EXEC_MIME_TYPE\n",
       "      );\n",
       "      this.keyboard_manager.register_events(toinsert);\n",
       "      // Render to node\n",
       "      var props = {data: data, metadata: metadata[EXEC_MIME_TYPE]};\n",
       "      render(props, toinsert[0]);\n",
       "      element.append(toinsert);\n",
       "      return toinsert\n",
       "    }\n",
       "\n",
       "    /* Handle when an output is cleared or removed */\n",
       "    events.on('clear_output.CodeCell', handleClearOutput);\n",
       "    events.on('delete.Cell', handleClearOutput);\n",
       "\n",
       "    /* Handle when a new output is added */\n",
       "    events.on('output_added.OutputArea', handleAddOutput);\n",
       "\n",
       "    /**\n",
       "     * Register the mime type and append_mime function with output_area\n",
       "     */\n",
       "    OutputArea.prototype.register_mime_type(EXEC_MIME_TYPE, append_mime, {\n",
       "      /* Is output safe? */\n",
       "      safe: true,\n",
       "      /* Index of renderer in `output_area.display_order` */\n",
       "      index: 0\n",
       "    });\n",
       "  }\n",
       "\n",
       "  // register the mime type if in Jupyter Notebook environment and previously unregistered\n",
       "  if (root.Jupyter !== undefined) {\n",
       "    var events = require('base/js/events');\n",
       "    var OutputArea = require('notebook/js/outputarea').OutputArea;\n",
       "\n",
       "    if (OutputArea.prototype.mime_types().indexOf(EXEC_MIME_TYPE) == -1) {\n",
       "      register_renderer(events, OutputArea);\n",
       "    }\n",
       "  }\n",
       "\n",
       "  \n",
       "  if (typeof (root._bokeh_timeout) === \"undefined\" || force === true) {\n",
       "    root._bokeh_timeout = Date.now() + 5000;\n",
       "    root._bokeh_failed_load = false;\n",
       "  }\n",
       "\n",
       "  var NB_LOAD_WARNING = {'data': {'text/html':\n",
       "     \"<div style='background-color: #fdd'>\\n\"+\n",
       "     \"<p>\\n\"+\n",
       "     \"BokehJS does not appear to have successfully loaded. If loading BokehJS from CDN, this \\n\"+\n",
       "     \"may be due to a slow or bad network connection. Possible fixes:\\n\"+\n",
       "     \"</p>\\n\"+\n",
       "     \"<ul>\\n\"+\n",
       "     \"<li>re-rerun `output_notebook()` to attempt to load from CDN again, or</li>\\n\"+\n",
       "     \"<li>use INLINE resources instead, as so:</li>\\n\"+\n",
       "     \"</ul>\\n\"+\n",
       "     \"<code>\\n\"+\n",
       "     \"from bokeh.resources import INLINE\\n\"+\n",
       "     \"output_notebook(resources=INLINE)\\n\"+\n",
       "     \"</code>\\n\"+\n",
       "     \"</div>\"}};\n",
       "\n",
       "  function display_loaded() {\n",
       "    var el = document.getElementById(\"d2b85d9f-2523-47fb-a26b-abc57ba48dba\");\n",
       "    if (el != null) {\n",
       "      el.textContent = \"BokehJS is loading...\";\n",
       "    }\n",
       "    if (root.Bokeh !== undefined) {\n",
       "      if (el != null) {\n",
       "        el.textContent = \"BokehJS \" + root.Bokeh.version + \" successfully loaded.\";\n",
       "      }\n",
       "    } else if (Date.now() < root._bokeh_timeout) {\n",
       "      setTimeout(display_loaded, 100)\n",
       "    }\n",
       "  }\n",
       "\n",
       "\n",
       "  function run_callbacks() {\n",
       "    try {\n",
       "      root._bokeh_onload_callbacks.forEach(function(callback) { callback() });\n",
       "    }\n",
       "    finally {\n",
       "      delete root._bokeh_onload_callbacks\n",
       "    }\n",
       "    console.info(\"Bokeh: all callbacks have finished\");\n",
       "  }\n",
       "\n",
       "  function load_libs(js_urls, callback) {\n",
       "    root._bokeh_onload_callbacks.push(callback);\n",
       "    if (root._bokeh_is_loading > 0) {\n",
       "      console.log(\"Bokeh: BokehJS is being loaded, scheduling callback at\", now());\n",
       "      return null;\n",
       "    }\n",
       "    if (js_urls == null || js_urls.length === 0) {\n",
       "      run_callbacks();\n",
       "      return null;\n",
       "    }\n",
       "    console.log(\"Bokeh: BokehJS not loaded, scheduling load and callback at\", now());\n",
       "    root._bokeh_is_loading = js_urls.length;\n",
       "    for (var i = 0; i < js_urls.length; i++) {\n",
       "      var url = js_urls[i];\n",
       "      var s = document.createElement('script');\n",
       "      s.src = url;\n",
       "      s.async = false;\n",
       "      s.onreadystatechange = s.onload = function() {\n",
       "        root._bokeh_is_loading--;\n",
       "        if (root._bokeh_is_loading === 0) {\n",
       "          console.log(\"Bokeh: all BokehJS libraries loaded\");\n",
       "          run_callbacks()\n",
       "        }\n",
       "      };\n",
       "      s.onerror = function() {\n",
       "        console.warn(\"failed to load library \" + url);\n",
       "      };\n",
       "      console.log(\"Bokeh: injecting script tag for BokehJS library: \", url);\n",
       "      document.getElementsByTagName(\"head\")[0].appendChild(s);\n",
       "    }\n",
       "  };var element = document.getElementById(\"d2b85d9f-2523-47fb-a26b-abc57ba48dba\");\n",
       "  if (element == null) {\n",
       "    console.log(\"Bokeh: ERROR: autoload.js configured with elementid 'd2b85d9f-2523-47fb-a26b-abc57ba48dba' but no matching script tag was found. \")\n",
       "    return false;\n",
       "  }\n",
       "\n",
       "  var js_urls = [\"https://cdn.pydata.org/bokeh/release/bokeh-0.12.13.min.js\", \"https://cdn.pydata.org/bokeh/release/bokeh-widgets-0.12.13.min.js\", \"https://cdn.pydata.org/bokeh/release/bokeh-tables-0.12.13.min.js\", \"https://cdn.pydata.org/bokeh/release/bokeh-gl-0.12.13.min.js\"];\n",
       "\n",
       "  var inline_js = [\n",
       "    function(Bokeh) {\n",
       "      Bokeh.set_log_level(\"info\");\n",
       "    },\n",
       "    \n",
       "    function(Bokeh) {\n",
       "      \n",
       "    },\n",
       "    function(Bokeh) {\n",
       "      console.log(\"Bokeh: injecting CSS: https://cdn.pydata.org/bokeh/release/bokeh-0.12.13.min.css\");\n",
       "      Bokeh.embed.inject_css(\"https://cdn.pydata.org/bokeh/release/bokeh-0.12.13.min.css\");\n",
       "      console.log(\"Bokeh: injecting CSS: https://cdn.pydata.org/bokeh/release/bokeh-widgets-0.12.13.min.css\");\n",
       "      Bokeh.embed.inject_css(\"https://cdn.pydata.org/bokeh/release/bokeh-widgets-0.12.13.min.css\");\n",
       "      console.log(\"Bokeh: injecting CSS: https://cdn.pydata.org/bokeh/release/bokeh-tables-0.12.13.min.css\");\n",
       "      Bokeh.embed.inject_css(\"https://cdn.pydata.org/bokeh/release/bokeh-tables-0.12.13.min.css\");\n",
       "    }\n",
       "  ];\n",
       "\n",
       "  function run_inline_js() {\n",
       "    \n",
       "    if ((root.Bokeh !== undefined) || (force === true)) {\n",
       "      for (var i = 0; i < inline_js.length; i++) {\n",
       "        inline_js[i].call(root, root.Bokeh);\n",
       "      }if (force === true) {\n",
       "        display_loaded();\n",
       "      }} else if (Date.now() < root._bokeh_timeout) {\n",
       "      setTimeout(run_inline_js, 100);\n",
       "    } else if (!root._bokeh_failed_load) {\n",
       "      console.log(\"Bokeh: BokehJS failed to load within specified timeout.\");\n",
       "      root._bokeh_failed_load = true;\n",
       "    } else if (force !== true) {\n",
       "      var cell = $(document.getElementById(\"d2b85d9f-2523-47fb-a26b-abc57ba48dba\")).parents('.cell').data().cell;\n",
       "      cell.output_area.append_execute_result(NB_LOAD_WARNING)\n",
       "    }\n",
       "\n",
       "  }\n",
       "\n",
       "  if (root._bokeh_is_loading === 0) {\n",
       "    console.log(\"Bokeh: BokehJS loaded, going straight to plotting\");\n",
       "    run_inline_js();\n",
       "  } else {\n",
       "    load_libs(js_urls, function() {\n",
       "      console.log(\"Bokeh: BokehJS plotting callback run at\", now());\n",
       "      run_inline_js();\n",
       "    });\n",
       "  }\n",
       "}(window));"
      ],
      "application/vnd.bokehjs_load.v0+json": "\n(function(root) {\n  function now() {\n    return new Date();\n  }\n\n  var force = true;\n\n  if (typeof (root._bokeh_onload_callbacks) === \"undefined\" || force === true) {\n    root._bokeh_onload_callbacks = [];\n    root._bokeh_is_loading = undefined;\n  }\n\n  \n\n  \n  if (typeof (root._bokeh_timeout) === \"undefined\" || force === true) {\n    root._bokeh_timeout = Date.now() + 5000;\n    root._bokeh_failed_load = false;\n  }\n\n  var NB_LOAD_WARNING = {'data': {'text/html':\n     \"<div style='background-color: #fdd'>\\n\"+\n     \"<p>\\n\"+\n     \"BokehJS does not appear to have successfully loaded. If loading BokehJS from CDN, this \\n\"+\n     \"may be due to a slow or bad network connection. Possible fixes:\\n\"+\n     \"</p>\\n\"+\n     \"<ul>\\n\"+\n     \"<li>re-rerun `output_notebook()` to attempt to load from CDN again, or</li>\\n\"+\n     \"<li>use INLINE resources instead, as so:</li>\\n\"+\n     \"</ul>\\n\"+\n     \"<code>\\n\"+\n     \"from bokeh.resources import INLINE\\n\"+\n     \"output_notebook(resources=INLINE)\\n\"+\n     \"</code>\\n\"+\n     \"</div>\"}};\n\n  function display_loaded() {\n    var el = document.getElementById(\"d2b85d9f-2523-47fb-a26b-abc57ba48dba\");\n    if (el != null) {\n      el.textContent = \"BokehJS is loading...\";\n    }\n    if (root.Bokeh !== undefined) {\n      if (el != null) {\n        el.textContent = \"BokehJS \" + root.Bokeh.version + \" successfully loaded.\";\n      }\n    } else if (Date.now() < root._bokeh_timeout) {\n      setTimeout(display_loaded, 100)\n    }\n  }\n\n\n  function run_callbacks() {\n    try {\n      root._bokeh_onload_callbacks.forEach(function(callback) { callback() });\n    }\n    finally {\n      delete root._bokeh_onload_callbacks\n    }\n    console.info(\"Bokeh: all callbacks have finished\");\n  }\n\n  function load_libs(js_urls, callback) {\n    root._bokeh_onload_callbacks.push(callback);\n    if (root._bokeh_is_loading > 0) {\n      console.log(\"Bokeh: BokehJS is being loaded, scheduling callback at\", now());\n      return null;\n    }\n    if (js_urls == null || js_urls.length === 0) {\n      run_callbacks();\n      return null;\n    }\n    console.log(\"Bokeh: BokehJS not loaded, scheduling load and callback at\", now());\n    root._bokeh_is_loading = js_urls.length;\n    for (var i = 0; i < js_urls.length; i++) {\n      var url = js_urls[i];\n      var s = document.createElement('script');\n      s.src = url;\n      s.async = false;\n      s.onreadystatechange = s.onload = function() {\n        root._bokeh_is_loading--;\n        if (root._bokeh_is_loading === 0) {\n          console.log(\"Bokeh: all BokehJS libraries loaded\");\n          run_callbacks()\n        }\n      };\n      s.onerror = function() {\n        console.warn(\"failed to load library \" + url);\n      };\n      console.log(\"Bokeh: injecting script tag for BokehJS library: \", url);\n      document.getElementsByTagName(\"head\")[0].appendChild(s);\n    }\n  };var element = document.getElementById(\"d2b85d9f-2523-47fb-a26b-abc57ba48dba\");\n  if (element == null) {\n    console.log(\"Bokeh: ERROR: autoload.js configured with elementid 'd2b85d9f-2523-47fb-a26b-abc57ba48dba' but no matching script tag was found. \")\n    return false;\n  }\n\n  var js_urls = [\"https://cdn.pydata.org/bokeh/release/bokeh-0.12.13.min.js\", \"https://cdn.pydata.org/bokeh/release/bokeh-widgets-0.12.13.min.js\", \"https://cdn.pydata.org/bokeh/release/bokeh-tables-0.12.13.min.js\", \"https://cdn.pydata.org/bokeh/release/bokeh-gl-0.12.13.min.js\"];\n\n  var inline_js = [\n    function(Bokeh) {\n      Bokeh.set_log_level(\"info\");\n    },\n    \n    function(Bokeh) {\n      \n    },\n    function(Bokeh) {\n      console.log(\"Bokeh: injecting CSS: https://cdn.pydata.org/bokeh/release/bokeh-0.12.13.min.css\");\n      Bokeh.embed.inject_css(\"https://cdn.pydata.org/bokeh/release/bokeh-0.12.13.min.css\");\n      console.log(\"Bokeh: injecting CSS: https://cdn.pydata.org/bokeh/release/bokeh-widgets-0.12.13.min.css\");\n      Bokeh.embed.inject_css(\"https://cdn.pydata.org/bokeh/release/bokeh-widgets-0.12.13.min.css\");\n      console.log(\"Bokeh: injecting CSS: https://cdn.pydata.org/bokeh/release/bokeh-tables-0.12.13.min.css\");\n      Bokeh.embed.inject_css(\"https://cdn.pydata.org/bokeh/release/bokeh-tables-0.12.13.min.css\");\n    }\n  ];\n\n  function run_inline_js() {\n    \n    if ((root.Bokeh !== undefined) || (force === true)) {\n      for (var i = 0; i < inline_js.length; i++) {\n        inline_js[i].call(root, root.Bokeh);\n      }if (force === true) {\n        display_loaded();\n      }} else if (Date.now() < root._bokeh_timeout) {\n      setTimeout(run_inline_js, 100);\n    } else if (!root._bokeh_failed_load) {\n      console.log(\"Bokeh: BokehJS failed to load within specified timeout.\");\n      root._bokeh_failed_load = true;\n    } else if (force !== true) {\n      var cell = $(document.getElementById(\"d2b85d9f-2523-47fb-a26b-abc57ba48dba\")).parents('.cell').data().cell;\n      cell.output_area.append_execute_result(NB_LOAD_WARNING)\n    }\n\n  }\n\n  if (root._bokeh_is_loading === 0) {\n    console.log(\"Bokeh: BokehJS loaded, going straight to plotting\");\n    run_inline_js();\n  } else {\n    load_libs(js_urls, function() {\n      console.log(\"Bokeh: BokehJS plotting callback run at\", now());\n      run_inline_js();\n    });\n  }\n}(window));"
     },
     "metadata": {},
     "output_type": "display_data"
    }
   ],
   "source": [
    "import pandas as pd\n",
    "import numpy as np\n",
    "import pickle\n",
    "import re\n",
    "from helpers import vocabulary\n",
    "\n",
    "# Bokeh for plotting.\n",
    "import bokeh.plotting as bp\n",
    "from bokeh.models import HoverTool\n",
    "bp.output_notebook()"
   ]
  },
  {
   "cell_type": "code",
   "execution_count": 3,
   "metadata": {},
   "outputs": [],
   "source": [
    "data = pickle.load(open(\"./data/data.p\", \"rb\"))"
   ]
  },
  {
   "cell_type": "code",
   "execution_count": 4,
   "metadata": {
    "scrolled": true
   },
   "outputs": [
    {
     "data": {
      "text/html": [
       "<div>\n",
       "<style scoped>\n",
       "    .dataframe tbody tr th:only-of-type {\n",
       "        vertical-align: middle;\n",
       "    }\n",
       "\n",
       "    .dataframe tbody tr th {\n",
       "        vertical-align: top;\n",
       "    }\n",
       "\n",
       "    .dataframe thead th {\n",
       "        text-align: right;\n",
       "    }\n",
       "</style>\n",
       "<table border=\"1\" class=\"dataframe\">\n",
       "  <thead>\n",
       "    <tr style=\"text-align: right;\">\n",
       "      <th></th>\n",
       "      <th>date_filed</th>\n",
       "      <th>year_filed</th>\n",
       "      <th>name_first</th>\n",
       "      <th>name_last</th>\n",
       "      <th>political_party</th>\n",
       "      <th>text</th>\n",
       "    </tr>\n",
       "  </thead>\n",
       "  <tbody>\n",
       "    <tr>\n",
       "      <th>0</th>\n",
       "      <td>1946-02-25</td>\n",
       "      <td>1946</td>\n",
       "      <td>Stanley</td>\n",
       "      <td>Reed</td>\n",
       "      <td>d</td>\n",
       "      <td>[&lt;unk&gt;, paul, &lt;unk&gt;, sweeney, argued, the, cau...</td>\n",
       "    </tr>\n",
       "    <tr>\n",
       "      <th>1</th>\n",
       "      <td>1888-10-22</td>\n",
       "      <td>1888</td>\n",
       "      <td>Joseph</td>\n",
       "      <td>Bradley</td>\n",
       "      <td>r</td>\n",
       "      <td>[justice, bradley, delivered, the, opinion, &lt;u...</td>\n",
       "    </tr>\n",
       "    <tr>\n",
       "      <th>2</th>\n",
       "      <td>1944-01-10</td>\n",
       "      <td>1944</td>\n",
       "      <td>William</td>\n",
       "      <td>Douglas</td>\n",
       "      <td>d</td>\n",
       "      <td>[john, j, &lt;unk&gt;, with, whom, mr, leonard, g, &lt;...</td>\n",
       "    </tr>\n",
       "    <tr>\n",
       "      <th>3</th>\n",
       "      <td>1896-05-18</td>\n",
       "      <td>1896</td>\n",
       "      <td>Melville</td>\n",
       "      <td>Fuller</td>\n",
       "      <td>d</td>\n",
       "      <td>[winn, with, whom, was, mr, fh, &lt;/s&gt;, chief, j...</td>\n",
       "    </tr>\n",
       "    <tr>\n",
       "      <th>4</th>\n",
       "      <td>1923-01-02</td>\n",
       "      <td>1923</td>\n",
       "      <td>William</td>\n",
       "      <td>Taft</td>\n",
       "      <td>r</td>\n",
       "      <td>[&lt;unk&gt;, mr, d, roger, &lt;unk&gt;, with, whom, mr, j...</td>\n",
       "    </tr>\n",
       "  </tbody>\n",
       "</table>\n",
       "</div>"
      ],
      "text/plain": [
       "   date_filed year_filed name_first name_last political_party  \\\n",
       "0  1946-02-25       1946    Stanley      Reed               d   \n",
       "1  1888-10-22       1888     Joseph   Bradley               r   \n",
       "2  1944-01-10       1944    William   Douglas               d   \n",
       "3  1896-05-18       1896   Melville    Fuller               d   \n",
       "4  1923-01-02       1923    William      Taft               r   \n",
       "\n",
       "                                                text  \n",
       "0  [<unk>, paul, <unk>, sweeney, argued, the, cau...  \n",
       "1  [justice, bradley, delivered, the, opinion, <u...  \n",
       "2  [john, j, <unk>, with, whom, mr, leonard, g, <...  \n",
       "3  [winn, with, whom, was, mr, fh, </s>, chief, j...  \n",
       "4  [<unk>, mr, d, roger, <unk>, with, whom, mr, j...  "
      ]
     },
     "execution_count": 4,
     "metadata": {},
     "output_type": "execute_result"
    }
   ],
   "source": [
    "data.head()"
   ]
  },
  {
   "cell_type": "code",
   "execution_count": 5,
   "metadata": {},
   "outputs": [
    {
     "name": "stdout",
     "output_type": "stream",
     "text": [
      "Total number of Republican opinions: 14080\n",
      "Total number of Democrat opinions: 7236\n",
      "Total number of other party opinions: 916\n",
      "Total number of opinions: 22232\n"
     ]
    }
   ],
   "source": [
    "print(\"Total number of Republican opinions:\", len(data[data.political_party=='r']))\n",
    "print(\"Total number of Democrat opinions:\", len(data[data.political_party=='d']))\n",
    "print(\"Total number of other party opinions:\", len(data[(data.political_party!='d')&(data.political_party!='r')]))\n",
    "print(\"Total number of opinions:\", len(data))"
   ]
  },
  {
   "cell_type": "code",
   "execution_count": 6,
   "metadata": {},
   "outputs": [
    {
     "name": "stdout",
     "output_type": "stream",
     "text": [
      "Average number of words per opinion: 3766.1872076286436\n",
      "Average number of sentences per opinion: 105.16804605973371\n"
     ]
    }
   ],
   "source": [
    "print(\"Average number of words per opinion:\", np.mean(data.text.apply(lambda x: len([w for w in x if w != '</s>']))))\n",
    "print(\"Average number of sentences per opinion:\", np.mean(data.text.apply(lambda x: sum([1 for w in x if w == '</s>'])-1)))"
   ]
  },
  {
   "cell_type": "markdown",
   "metadata": {},
   "source": [
    "# Vocabulary Size EDA"
   ]
  },
  {
   "cell_type": "code",
   "execution_count": 7,
   "metadata": {},
   "outputs": [],
   "source": [
    "token_feed =[]\n",
    "for x in data.text:\n",
    "    token_feed.extend(x)"
   ]
  },
  {
   "cell_type": "code",
   "execution_count": 9,
   "metadata": {},
   "outputs": [
    {
     "name": "stdout",
     "output_type": "stream",
     "text": [
      "Vocabulary size: 61,543\n"
     ]
    }
   ],
   "source": [
    "# Process tokens into a total vocabulary, not limiting vocab size\n",
    "vocab_initial = vocabulary.Vocabulary(token_feed)\n",
    "print(\"Vocabulary size: {:,}\".format(vocab_initial.size))"
   ]
  },
  {
   "cell_type": "code",
   "execution_count": 47,
   "metadata": {},
   "outputs": [
    {
     "name": "stdout",
     "output_type": "stream",
     "text": [
      "50th percentile corresponds to a count of 12 starting at vocabulary position 31138\n",
      "Example unigrams around that position:\n",
      "('gthe', 11)\n",
      "('neva', 12)\n",
      "('stephanotis', 12)\n",
      "75th percentile corresponds to a count of 91 starting at vocabulary position 15444\n",
      "Example unigrams around that position:\n",
      "('packaged', 90)\n",
      "('locker', 91)\n",
      "('toys', 91)\n",
      "80th percentile corresponds to a count of 159 starting at vocabulary position 12314\n",
      "Example unigrams around that position:\n",
      "('disobeyed', 158)\n",
      "('nga', 159)\n",
      "('congregation', 159)\n",
      "85th percentile corresponds to a count of 302 starting at vocabulary position 9240\n",
      "Example unigrams around that position:\n",
      "('remuneration', 301)\n",
      "('disadvantaged', 302)\n",
      "('skinner', 302)\n",
      "90th percentile corresponds to a count of 682 starting at vocabulary position 6155\n",
      "Example unigrams around that position:\n",
      "('phrases', 682)\n",
      "('battery', 683)\n",
      "('incidence', 683)\n"
     ]
    }
   ],
   "source": [
    "# Identify a couple percentile points, their counts, and their vocab sizes\n",
    "\n",
    "# get count distribution\n",
    "count_distribution = ([])\n",
    "for word, count in vocab_initial.unigram_counts.most_common(61543):\n",
    "    count_distribution.append(count)\n",
    "\n",
    "# calculations for each percentile point\n",
    "percentiles = [50,75,80,85,90]\n",
    "for x in percentiles:\n",
    "    count = np.percentile(count_distribution,x)\n",
    "    vocab_position = np.argmin(count_distribution>=count)\n",
    "\n",
    "    print (\"%dth percentile corresponds to a count of %d starting at vocabulary position %d\" % (x, count, vocab_position))\n",
    "    print(\"Example unigrams around that position:\")\n",
    "    print(vocab_initial.unigram_counts.most_common(vocab_position+1)[-1])\n",
    "    print(vocab_initial.unigram_counts.most_common(vocab_position)[-1])\n",
    "    print(vocab_initial.unigram_counts.most_common(vocab_position-1)[-1])\n"
   ]
  },
  {
   "cell_type": "markdown",
   "metadata": {},
   "source": [
    "# Top 10,000 Words"
   ]
  },
  {
   "cell_type": "code",
   "execution_count": 48,
   "metadata": {},
   "outputs": [
    {
     "name": "stdout",
     "output_type": "stream",
     "text": [
      "Vocabulary size: 10,000\n",
      "Most common unigrams:\n",
      "\"<unk>\": 13,901,896\n",
      "\"the\": 7,539,832\n",
      "\"</s>\": 2,360,328\n",
      "\"in\": 1,890,147\n",
      "\"that\": 1,520,469\n",
      "\"is\": 935,304\n",
      "\"by\": 821,136\n",
      "\"for\": 794,471\n",
      "\"it\": 731,073\n",
      "\"be\": 722,384\n"
     ]
    }
   ],
   "source": [
    "# Process tokens into a vocabulary - collects counts of tokens and assign wordids\n",
    "vocab = vocabulary.Vocabulary(token_feed, size=10000)\n",
    "print(\"Vocabulary size: {:,}\".format(vocab.size))\n",
    "\n",
    "# Print out some debugging stats\n",
    "print(\"Most common unigrams:\")\n",
    "for word, count in vocab.unigram_counts.most_common(10):\n",
    "    print(\"\\\"{:s}\\\": {:,}\".format(word, count))"
   ]
  },
  {
   "cell_type": "code",
   "execution_count": 49,
   "metadata": {},
   "outputs": [
    {
     "data": {
      "text/html": [
       "\n",
       "<div class=\"bk-root\">\n",
       "    <div class=\"bk-plotdiv\" id=\"0aa58a5a-15fc-4a05-bbcb-904273fe351b\"></div>\n",
       "</div>"
      ]
     },
     "metadata": {},
     "output_type": "display_data"
    },
    {
     "data": {
      "application/javascript": [
       "(function(root) {\n",
       "  function embed_document(root) {\n",
       "    \n",
       "  var docs_json = {\"bad01fb0-a88d-4e67-bab8-834295353b97\":{\"roots\":{\"references\":[{\"attributes\":{\"axis_label\":\"Count(w)\",\"formatter\":{\"id\":\"e3072750-21bc-4f85-bcf1-0e0b362e714e\",\"type\":\"BasicTickFormatter\"},\"plot\":{\"id\":\"49ca3690-ff85-4d4d-b7cf-d4f48d2b905f\",\"subtype\":\"Figure\",\"type\":\"Plot\"},\"ticker\":{\"id\":\"be1a0d88-07c9-4f1b-9858-ce93dd1f49d7\",\"type\":\"BasicTicker\"}},\"id\":\"141151a4-d32b-4ef0-bc62-c2e83aafb7d9\",\"type\":\"LinearAxis\"},{\"attributes\":{},\"id\":\"b383a1fa-99d6-40e6-8642-db580ff36598\",\"type\":\"LinearScale\"},{\"attributes\":{\"callback\":null,\"column_names\":[\"x\",\"top\"],\"data\":{\"top\":[13901896,7539832,2360328,1890147,1520469,935304,821136,794471,731073,722384,707083,703154,675575,650960,543072,503724,502863,452306,386614,354647],\"x\":[\"<unk>\",\"the\",\"</s>\",\"in\",\"that\",\"is\",\"by\",\"for\",\"it\",\"be\",\"was\",\"as\",\"or\",\"not\",\"court\",\"this\",\"on\",\"which\",\"with\",\"at\"]}},\"id\":\"7f2e2459-c120-4611-8a6a-fc1a6307f2b9\",\"type\":\"ColumnDataSource\"},{\"attributes\":{\"callback\":null,\"factors\":[\"<unk>\",\"the\",\"</s>\",\"in\",\"that\",\"is\",\"by\",\"for\",\"it\",\"be\",\"was\",\"as\",\"or\",\"not\",\"court\",\"this\",\"on\",\"which\",\"with\",\"at\"]},\"id\":\"1a389777-d185-4318-92d3-60759c061435\",\"type\":\"FactorRange\"},{\"attributes\":{},\"id\":\"e3072750-21bc-4f85-bcf1-0e0b362e714e\",\"type\":\"BasicTickFormatter\"},{\"attributes\":{\"callback\":null,\"mode\":\"vline\",\"tooltips\":[[\"word\",\"@x\"],[\"count\",\"@top\"]]},\"id\":\"70dcc7f1-4197-4c36-97db-eb4a5026493f\",\"type\":\"HoverTool\"},{\"attributes\":{\"formatter\":{\"id\":\"485b67e0-c539-41e3-a919-20baa2d5e68c\",\"type\":\"CategoricalTickFormatter\"},\"plot\":{\"id\":\"49ca3690-ff85-4d4d-b7cf-d4f48d2b905f\",\"subtype\":\"Figure\",\"type\":\"Plot\"},\"ticker\":{\"id\":\"2f2b3af7-177d-40dd-8091-46d8ef123825\",\"type\":\"CategoricalTicker\"}},\"id\":\"82d41daa-ecff-494f-8445-1a89ced185af\",\"type\":\"CategoricalAxis\"},{\"attributes\":{\"plot\":null,\"text\":\"\"},\"id\":\"433b4127-91bd-43ef-aca0-7edefe717f26\",\"type\":\"Title\"},{\"attributes\":{},\"id\":\"2f2b3af7-177d-40dd-8091-46d8ef123825\",\"type\":\"CategoricalTicker\"},{\"attributes\":{},\"id\":\"7a3541c8-ccb4-4f05-b47e-f3f94aafcd83\",\"type\":\"CategoricalScale\"},{\"attributes\":{},\"id\":\"485b67e0-c539-41e3-a919-20baa2d5e68c\",\"type\":\"CategoricalTickFormatter\"},{\"attributes\":{\"source\":{\"id\":\"7f2e2459-c120-4611-8a6a-fc1a6307f2b9\",\"type\":\"ColumnDataSource\"}},\"id\":\"5336e89e-c2da-447b-9722-d63f113ff461\",\"type\":\"CDSView\"},{\"attributes\":{\"plot\":{\"id\":\"49ca3690-ff85-4d4d-b7cf-d4f48d2b905f\",\"subtype\":\"Figure\",\"type\":\"Plot\"},\"ticker\":{\"id\":\"2f2b3af7-177d-40dd-8091-46d8ef123825\",\"type\":\"CategoricalTicker\"}},\"id\":\"4e7f05c4-7e94-4b5a-a9b1-b098ad87bb92\",\"type\":\"Grid\"},{\"attributes\":{},\"id\":\"be1a0d88-07c9-4f1b-9858-ce93dd1f49d7\",\"type\":\"BasicTicker\"},{\"attributes\":{\"below\":[{\"id\":\"82d41daa-ecff-494f-8445-1a89ced185af\",\"type\":\"CategoricalAxis\"}],\"left\":[{\"id\":\"141151a4-d32b-4ef0-bc62-c2e83aafb7d9\",\"type\":\"LinearAxis\"}],\"plot_height\":400,\"plot_width\":800,\"renderers\":[{\"id\":\"82d41daa-ecff-494f-8445-1a89ced185af\",\"type\":\"CategoricalAxis\"},{\"id\":\"4e7f05c4-7e94-4b5a-a9b1-b098ad87bb92\",\"type\":\"Grid\"},{\"id\":\"141151a4-d32b-4ef0-bc62-c2e83aafb7d9\",\"type\":\"LinearAxis\"},{\"id\":\"95d2c99a-2af3-47d3-b26c-c805263eb4a8\",\"type\":\"Grid\"},{\"id\":\"8c507974-82eb-43d1-bd36-1f1cc8f04f01\",\"type\":\"GlyphRenderer\"}],\"title\":{\"id\":\"433b4127-91bd-43ef-aca0-7edefe717f26\",\"type\":\"Title\"},\"toolbar\":{\"id\":\"c3954f13-a4ed-4e3a-9570-6a26872b4a5f\",\"type\":\"Toolbar\"},\"x_range\":{\"id\":\"1a389777-d185-4318-92d3-60759c061435\",\"type\":\"FactorRange\"},\"x_scale\":{\"id\":\"7a3541c8-ccb4-4f05-b47e-f3f94aafcd83\",\"type\":\"CategoricalScale\"},\"y_range\":{\"id\":\"ce267dba-3d3b-4af3-b693-1c79a25cb5b0\",\"type\":\"DataRange1d\"},\"y_scale\":{\"id\":\"b383a1fa-99d6-40e6-8642-db580ff36598\",\"type\":\"LinearScale\"}},\"id\":\"49ca3690-ff85-4d4d-b7cf-d4f48d2b905f\",\"subtype\":\"Figure\",\"type\":\"Plot\"},{\"attributes\":{\"callback\":null,\"start\":0},\"id\":\"ce267dba-3d3b-4af3-b693-1c79a25cb5b0\",\"type\":\"DataRange1d\"},{\"attributes\":{\"data_source\":{\"id\":\"7f2e2459-c120-4611-8a6a-fc1a6307f2b9\",\"type\":\"ColumnDataSource\"},\"glyph\":{\"id\":\"15edc1df-921a-4c75-b837-d22fa09c9bc7\",\"type\":\"VBar\"},\"hover_glyph\":{\"id\":\"76a91937-bf2d-4b6b-99e6-6aff0cb8e9ea\",\"type\":\"VBar\"},\"muted_glyph\":null,\"nonselection_glyph\":{\"id\":\"4f60277d-b493-4513-9dd3-7157b8010676\",\"type\":\"VBar\"},\"selection_glyph\":null,\"view\":{\"id\":\"5336e89e-c2da-447b-9722-d63f113ff461\",\"type\":\"CDSView\"}},\"id\":\"8c507974-82eb-43d1-bd36-1f1cc8f04f01\",\"type\":\"GlyphRenderer\"},{\"attributes\":{\"fill_color\":{\"value\":\"#1f77b4\"},\"line_color\":{\"value\":\"#1f77b4\"},\"top\":{\"field\":\"top\"},\"width\":{\"value\":0.8},\"x\":{\"field\":\"x\"}},\"id\":\"15edc1df-921a-4c75-b837-d22fa09c9bc7\",\"type\":\"VBar\"},{\"attributes\":{\"dimension\":1,\"plot\":{\"id\":\"49ca3690-ff85-4d4d-b7cf-d4f48d2b905f\",\"subtype\":\"Figure\",\"type\":\"Plot\"},\"ticker\":{\"id\":\"be1a0d88-07c9-4f1b-9858-ce93dd1f49d7\",\"type\":\"BasicTicker\"}},\"id\":\"95d2c99a-2af3-47d3-b26c-c805263eb4a8\",\"type\":\"Grid\"},{\"attributes\":{\"fill_color\":{\"value\":\"firebrick\"},\"line_color\":{\"value\":\"#1f77b4\"},\"top\":{\"field\":\"top\"},\"width\":{\"value\":0.8},\"x\":{\"field\":\"x\"}},\"id\":\"76a91937-bf2d-4b6b-99e6-6aff0cb8e9ea\",\"type\":\"VBar\"},{\"attributes\":{\"fill_alpha\":{\"value\":0.1},\"fill_color\":{\"value\":\"#1f77b4\"},\"line_alpha\":{\"value\":0.1},\"line_color\":{\"value\":\"#1f77b4\"},\"top\":{\"field\":\"top\"},\"width\":{\"value\":0.8},\"x\":{\"field\":\"x\"}},\"id\":\"4f60277d-b493-4513-9dd3-7157b8010676\",\"type\":\"VBar\"},{\"attributes\":{\"active_drag\":\"auto\",\"active_inspect\":\"auto\",\"active_scroll\":\"auto\",\"active_tap\":\"auto\",\"tools\":[{\"id\":\"70dcc7f1-4197-4c36-97db-eb4a5026493f\",\"type\":\"HoverTool\"}]},\"id\":\"c3954f13-a4ed-4e3a-9570-6a26872b4a5f\",\"type\":\"Toolbar\"}],\"root_ids\":[\"49ca3690-ff85-4d4d-b7cf-d4f48d2b905f\"]},\"title\":\"Bokeh Application\",\"version\":\"0.12.13\"}};\n",
       "  var render_items = [{\"docid\":\"bad01fb0-a88d-4e67-bab8-834295353b97\",\"elementid\":\"0aa58a5a-15fc-4a05-bbcb-904273fe351b\",\"modelid\":\"49ca3690-ff85-4d4d-b7cf-d4f48d2b905f\"}];\n",
       "  root.Bokeh.embed.embed_items_notebook(docs_json, render_items);\n",
       "\n",
       "  }\n",
       "  if (root.Bokeh !== undefined) {\n",
       "    embed_document(root);\n",
       "  } else {\n",
       "    var attempts = 0;\n",
       "    var timer = setInterval(function(root) {\n",
       "      if (root.Bokeh !== undefined) {\n",
       "        embed_document(root);\n",
       "        clearInterval(timer);\n",
       "      }\n",
       "      attempts++;\n",
       "      if (attempts > 100) {\n",
       "        console.log(\"Bokeh: ERROR: Unable to run BokehJS code because BokehJS library is missing\")\n",
       "        clearInterval(timer);\n",
       "      }\n",
       "    }, 10, root)\n",
       "  }\n",
       "})(window);"
      ],
      "application/vnd.bokehjs_exec.v0+json": ""
     },
     "metadata": {
      "application/vnd.bokehjs_exec.v0+json": {
       "id": "49ca3690-ff85-4d4d-b7cf-d4f48d2b905f"
      }
     },
     "output_type": "display_data"
    }
   ],
   "source": [
    "# Plot the top frequencies\n",
    "words, counts = zip(*vocab.unigram_counts.most_common(20))\n",
    "\n",
    "hover = HoverTool(tooltips=[(\"word\", \"@x\"), (\"count\", \"@top\")], mode=\"vline\")\n",
    "fig = bp.figure(x_range=words, plot_width=800, plot_height=400, tools=[hover])\n",
    "fig.vbar(x=words, width=0.8, top=counts, hover_fill_color=\"firebrick\")\n",
    "fig.y_range.start = 0\n",
    "fig.yaxis.axis_label = \"Count(w)\"\n",
    "bp.show(fig)"
   ]
  },
  {
   "cell_type": "code",
   "execution_count": 50,
   "metadata": {},
   "outputs": [],
   "source": [
    "pickle.dump(vocab, open(\"vocab.p\", \"wb\"))"
   ]
  },
  {
   "cell_type": "markdown",
   "metadata": {},
   "source": [
    "# Other Size Vocabularies"
   ]
  },
  {
   "cell_type": "code",
   "execution_count": 51,
   "metadata": {},
   "outputs": [
    {
     "name": "stdout",
     "output_type": "stream",
     "text": [
      "Vocabulary size: 10,000\n",
      "Most common unigrams:\n",
      "\"<unk>\": 13,901,896\n",
      "\"the\": 7,539,832\n",
      "\"</s>\": 2,360,328\n",
      "\"in\": 1,890,147\n",
      "\"that\": 1,520,469\n",
      "\"is\": 935,304\n",
      "\"by\": 821,136\n",
      "\"for\": 794,471\n",
      "\"it\": 731,073\n",
      "\"be\": 722,384\n"
     ]
    }
   ],
   "source": [
    "# Process tokens into a vocabulary - collects counts of tokens and assign wordids\n",
    "vocab_12314 = vocabulary.Vocabulary(token_feed, size=12314)\n",
    "print(\"Vocabulary size: {:,}\".format(vocab.size))\n",
    "\n",
    "# Print out some debugging stats\n",
    "print(\"Most common unigrams:\")\n",
    "for word, count in vocab_12314.unigram_counts.most_common(10):\n",
    "    print(\"\\\"{:s}\\\": {:,}\".format(word, count))"
   ]
  },
  {
   "cell_type": "code",
   "execution_count": 52,
   "metadata": {},
   "outputs": [],
   "source": [
    "pickle.dump(vocab_12314, open(\"vocab_12314.p\", \"wb\"))"
   ]
  },
  {
   "cell_type": "code",
   "execution_count": 53,
   "metadata": {},
   "outputs": [
    {
     "name": "stdout",
     "output_type": "stream",
     "text": [
      "Vocabulary size: 10,000\n",
      "Most common unigrams:\n",
      "\"<unk>\": 13,901,896\n",
      "\"the\": 7,539,832\n",
      "\"</s>\": 2,360,328\n",
      "\"in\": 1,890,147\n",
      "\"that\": 1,520,469\n",
      "\"is\": 935,304\n",
      "\"by\": 821,136\n",
      "\"for\": 794,471\n",
      "\"it\": 731,073\n",
      "\"be\": 722,384\n"
     ]
    }
   ],
   "source": [
    "# Process tokens into a vocabulary - collects counts of tokens and assign wordids\n",
    "vocab_6155 = vocabulary.Vocabulary(token_feed, size=6155)\n",
    "print(\"Vocabulary size: {:,}\".format(vocab.size))\n",
    "\n",
    "# Print out some debugging stats\n",
    "print(\"Most common unigrams:\")\n",
    "for word, count in vocab_6155.unigram_counts.most_common(10):\n",
    "    print(\"\\\"{:s}\\\": {:,}\".format(word, count))"
   ]
  },
  {
   "cell_type": "code",
   "execution_count": 54,
   "metadata": {},
   "outputs": [],
   "source": [
    "pickle.dump(vocab_6155, open(\"vocab_6155.p\", \"wb\"))"
   ]
  }
 ],
 "metadata": {
  "kernelspec": {
   "display_name": "Python 3",
   "language": "python",
   "name": "python3"
  },
  "language_info": {
   "codemirror_mode": {
    "name": "ipython",
    "version": 3
   },
   "file_extension": ".py",
   "mimetype": "text/x-python",
   "name": "python",
   "nbconvert_exporter": "python",
   "pygments_lexer": "ipython3",
   "version": "3.6.4"
  }
 },
 "nbformat": 4,
 "nbformat_minor": 2
}
